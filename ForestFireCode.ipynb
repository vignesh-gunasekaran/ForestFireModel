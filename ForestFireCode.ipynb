{
 "metadata": {
  "language_info": {
   "codemirror_mode": {
    "name": "ipython",
    "version": 3
   },
   "file_extension": ".py",
   "mimetype": "text/x-python",
   "name": "python",
   "nbconvert_exporter": "python",
   "pygments_lexer": "ipython3",
   "version": "3.7.6-final"
  },
  "orig_nbformat": 2,
  "kernelspec": {
   "name": "python_defaultSpec_1597606278850",
   "display_name": "Python 3.7.6 64-bit ('base': conda)"
  }
 },
 "nbformat": 4,
 "nbformat_minor": 2,
 "cells": [
  {
   "cell_type": "markdown",
   "metadata": {},
   "source": [
    "IMPORTING LIBRARIES FOR THE MODEL PREDICTION"
   ]
  },
  {
   "cell_type": "code",
   "execution_count": 24,
   "metadata": {},
   "outputs": [],
   "source": [
    "import pandas as pd \n",
    "import numpy as np \n",
    "from sklearn.linear_model import LogisticRegression\n",
    "from sklearn.svm import SVC\n",
    "from sklearn.tree import DecisionTreeClassifier\n",
    "from sklearn.ensemble import RandomForestClassifier\n",
    "from sklearn.naive_bayes import GaussianNB\n",
    "from sklearn.neighbors import KNeighborsClassifier\n",
    "from sklearn.model_selection import train_test_split\n",
    "import pickle"
   ]
  },
  {
   "cell_type": "markdown",
   "metadata": {},
   "source": [
    "IMPORTING DATASET"
   ]
  },
  {
   "cell_type": "code",
   "execution_count": 25,
   "metadata": {},
   "outputs": [
    {
     "output_type": "execute_result",
     "data": {
      "text/plain": "         Area  Oxygen  Temperature  Humidity  Fire Occurrence\n0    Jharkand      40           45        20                1\n1   Bangalore      50           30        10                1\n2     Ecuador      10           20        70                0\n3           a      60           45        70                1\n4   Bangalore      30           48        10                1\n5           c      50           15        30                0\n6          de       5           35        35                0\n7         asd       5           20        70                0\n8     Ecuador      60           32        19                1\n9           r      30           50        45                1\n10          t      40           55        80                1\n11          y      30           39       100                0\n12   Jharkand      10           12        12                0\n13  Bangalore      20           23        23                0\n14    Ecuador      60           34        15                1\n15     canada      80            4        68                0\n16          c      25           56        79                1\n17          c      12           45        90                0\n18        asd      28           43        15                1\n19        asd      26            0        32                0\n20         ad      32           37        21                1\n21       sasd      45           48        12                1\n22        asd      56           15        65                0\n23      asdas      67           45        33                1\n24        das      78           49         8                1\n25        das      89           45        18                1\n26        ads      21           12        44                0\n27        ads      11           20        59                0\n28        asd       1           32        70                0\n29        NaN       5           20        45                0\n30        NaN      42           43        20                1\n31        NaN      32           60        30                1\n32        NaN       5           15         5                0\n33        NaN      20           30         5                0\n34        NaN      30           51         2                1\n35        NaN      60           60        10                1\n36        NaN      10           10        60                0\n37        NaN       0           30         0                0\n38        NaN      45           45        15                1",
      "text/html": "<div>\n<style scoped>\n    .dataframe tbody tr th:only-of-type {\n        vertical-align: middle;\n    }\n\n    .dataframe tbody tr th {\n        vertical-align: top;\n    }\n\n    .dataframe thead th {\n        text-align: right;\n    }\n</style>\n<table border=\"1\" class=\"dataframe\">\n  <thead>\n    <tr style=\"text-align: right;\">\n      <th></th>\n      <th>Area</th>\n      <th>Oxygen</th>\n      <th>Temperature</th>\n      <th>Humidity</th>\n      <th>Fire Occurrence</th>\n    </tr>\n  </thead>\n  <tbody>\n    <tr>\n      <th>0</th>\n      <td>Jharkand</td>\n      <td>40</td>\n      <td>45</td>\n      <td>20</td>\n      <td>1</td>\n    </tr>\n    <tr>\n      <th>1</th>\n      <td>Bangalore</td>\n      <td>50</td>\n      <td>30</td>\n      <td>10</td>\n      <td>1</td>\n    </tr>\n    <tr>\n      <th>2</th>\n      <td>Ecuador</td>\n      <td>10</td>\n      <td>20</td>\n      <td>70</td>\n      <td>0</td>\n    </tr>\n    <tr>\n      <th>3</th>\n      <td>a</td>\n      <td>60</td>\n      <td>45</td>\n      <td>70</td>\n      <td>1</td>\n    </tr>\n    <tr>\n      <th>4</th>\n      <td>Bangalore</td>\n      <td>30</td>\n      <td>48</td>\n      <td>10</td>\n      <td>1</td>\n    </tr>\n    <tr>\n      <th>5</th>\n      <td>c</td>\n      <td>50</td>\n      <td>15</td>\n      <td>30</td>\n      <td>0</td>\n    </tr>\n    <tr>\n      <th>6</th>\n      <td>de</td>\n      <td>5</td>\n      <td>35</td>\n      <td>35</td>\n      <td>0</td>\n    </tr>\n    <tr>\n      <th>7</th>\n      <td>asd</td>\n      <td>5</td>\n      <td>20</td>\n      <td>70</td>\n      <td>0</td>\n    </tr>\n    <tr>\n      <th>8</th>\n      <td>Ecuador</td>\n      <td>60</td>\n      <td>32</td>\n      <td>19</td>\n      <td>1</td>\n    </tr>\n    <tr>\n      <th>9</th>\n      <td>r</td>\n      <td>30</td>\n      <td>50</td>\n      <td>45</td>\n      <td>1</td>\n    </tr>\n    <tr>\n      <th>10</th>\n      <td>t</td>\n      <td>40</td>\n      <td>55</td>\n      <td>80</td>\n      <td>1</td>\n    </tr>\n    <tr>\n      <th>11</th>\n      <td>y</td>\n      <td>30</td>\n      <td>39</td>\n      <td>100</td>\n      <td>0</td>\n    </tr>\n    <tr>\n      <th>12</th>\n      <td>Jharkand</td>\n      <td>10</td>\n      <td>12</td>\n      <td>12</td>\n      <td>0</td>\n    </tr>\n    <tr>\n      <th>13</th>\n      <td>Bangalore</td>\n      <td>20</td>\n      <td>23</td>\n      <td>23</td>\n      <td>0</td>\n    </tr>\n    <tr>\n      <th>14</th>\n      <td>Ecuador</td>\n      <td>60</td>\n      <td>34</td>\n      <td>15</td>\n      <td>1</td>\n    </tr>\n    <tr>\n      <th>15</th>\n      <td>canada</td>\n      <td>80</td>\n      <td>4</td>\n      <td>68</td>\n      <td>0</td>\n    </tr>\n    <tr>\n      <th>16</th>\n      <td>c</td>\n      <td>25</td>\n      <td>56</td>\n      <td>79</td>\n      <td>1</td>\n    </tr>\n    <tr>\n      <th>17</th>\n      <td>c</td>\n      <td>12</td>\n      <td>45</td>\n      <td>90</td>\n      <td>0</td>\n    </tr>\n    <tr>\n      <th>18</th>\n      <td>asd</td>\n      <td>28</td>\n      <td>43</td>\n      <td>15</td>\n      <td>1</td>\n    </tr>\n    <tr>\n      <th>19</th>\n      <td>asd</td>\n      <td>26</td>\n      <td>0</td>\n      <td>32</td>\n      <td>0</td>\n    </tr>\n    <tr>\n      <th>20</th>\n      <td>ad</td>\n      <td>32</td>\n      <td>37</td>\n      <td>21</td>\n      <td>1</td>\n    </tr>\n    <tr>\n      <th>21</th>\n      <td>sasd</td>\n      <td>45</td>\n      <td>48</td>\n      <td>12</td>\n      <td>1</td>\n    </tr>\n    <tr>\n      <th>22</th>\n      <td>asd</td>\n      <td>56</td>\n      <td>15</td>\n      <td>65</td>\n      <td>0</td>\n    </tr>\n    <tr>\n      <th>23</th>\n      <td>asdas</td>\n      <td>67</td>\n      <td>45</td>\n      <td>33</td>\n      <td>1</td>\n    </tr>\n    <tr>\n      <th>24</th>\n      <td>das</td>\n      <td>78</td>\n      <td>49</td>\n      <td>8</td>\n      <td>1</td>\n    </tr>\n    <tr>\n      <th>25</th>\n      <td>das</td>\n      <td>89</td>\n      <td>45</td>\n      <td>18</td>\n      <td>1</td>\n    </tr>\n    <tr>\n      <th>26</th>\n      <td>ads</td>\n      <td>21</td>\n      <td>12</td>\n      <td>44</td>\n      <td>0</td>\n    </tr>\n    <tr>\n      <th>27</th>\n      <td>ads</td>\n      <td>11</td>\n      <td>20</td>\n      <td>59</td>\n      <td>0</td>\n    </tr>\n    <tr>\n      <th>28</th>\n      <td>asd</td>\n      <td>1</td>\n      <td>32</td>\n      <td>70</td>\n      <td>0</td>\n    </tr>\n    <tr>\n      <th>29</th>\n      <td>NaN</td>\n      <td>5</td>\n      <td>20</td>\n      <td>45</td>\n      <td>0</td>\n    </tr>\n    <tr>\n      <th>30</th>\n      <td>NaN</td>\n      <td>42</td>\n      <td>43</td>\n      <td>20</td>\n      <td>1</td>\n    </tr>\n    <tr>\n      <th>31</th>\n      <td>NaN</td>\n      <td>32</td>\n      <td>60</td>\n      <td>30</td>\n      <td>1</td>\n    </tr>\n    <tr>\n      <th>32</th>\n      <td>NaN</td>\n      <td>5</td>\n      <td>15</td>\n      <td>5</td>\n      <td>0</td>\n    </tr>\n    <tr>\n      <th>33</th>\n      <td>NaN</td>\n      <td>20</td>\n      <td>30</td>\n      <td>5</td>\n      <td>0</td>\n    </tr>\n    <tr>\n      <th>34</th>\n      <td>NaN</td>\n      <td>30</td>\n      <td>51</td>\n      <td>2</td>\n      <td>1</td>\n    </tr>\n    <tr>\n      <th>35</th>\n      <td>NaN</td>\n      <td>60</td>\n      <td>60</td>\n      <td>10</td>\n      <td>1</td>\n    </tr>\n    <tr>\n      <th>36</th>\n      <td>NaN</td>\n      <td>10</td>\n      <td>10</td>\n      <td>60</td>\n      <td>0</td>\n    </tr>\n    <tr>\n      <th>37</th>\n      <td>NaN</td>\n      <td>0</td>\n      <td>30</td>\n      <td>0</td>\n      <td>0</td>\n    </tr>\n    <tr>\n      <th>38</th>\n      <td>NaN</td>\n      <td>45</td>\n      <td>45</td>\n      <td>15</td>\n      <td>1</td>\n    </tr>\n  </tbody>\n</table>\n</div>"
     },
     "metadata": {},
     "execution_count": 25
    }
   ],
   "source": [
    "df = pd.read_csv(r'G:\\machine learning\\Datasets\\forestfire\\forestfire.csv')\n",
    "df"
   ]
  },
  {
   "cell_type": "code",
   "execution_count": 26,
   "metadata": {},
   "outputs": [],
   "source": [
    "df = np.array(df)"
   ]
  },
  {
   "cell_type": "code",
   "execution_count": 27,
   "metadata": {},
   "outputs": [],
   "source": [
    "X = df[:,1:-1]\n",
    "y = df[:,-1]"
   ]
  },
  {
   "cell_type": "code",
   "execution_count": 28,
   "metadata": {},
   "outputs": [],
   "source": [
    "y = y.astype('int')"
   ]
  },
  {
   "cell_type": "code",
   "execution_count": 29,
   "metadata": {},
   "outputs": [],
   "source": [
    "X = X.astype('int')"
   ]
  },
  {
   "cell_type": "code",
   "execution_count": 30,
   "metadata": {},
   "outputs": [
    {
     "output_type": "execute_result",
     "data": {
      "text/plain": "array([[ 40,  45,  20],\n       [ 50,  30,  10],\n       [ 10,  20,  70],\n       [ 60,  45,  70],\n       [ 30,  48,  10],\n       [ 50,  15,  30],\n       [  5,  35,  35],\n       [  5,  20,  70],\n       [ 60,  32,  19],\n       [ 30,  50,  45],\n       [ 40,  55,  80],\n       [ 30,  39, 100],\n       [ 10,  12,  12],\n       [ 20,  23,  23],\n       [ 60,  34,  15],\n       [ 80,   4,  68],\n       [ 25,  56,  79],\n       [ 12,  45,  90],\n       [ 28,  43,  15],\n       [ 26,   0,  32],\n       [ 32,  37,  21],\n       [ 45,  48,  12],\n       [ 56,  15,  65],\n       [ 67,  45,  33],\n       [ 78,  49,   8],\n       [ 89,  45,  18],\n       [ 21,  12,  44],\n       [ 11,  20,  59],\n       [  1,  32,  70],\n       [  5,  20,  45],\n       [ 42,  43,  20],\n       [ 32,  60,  30],\n       [  5,  15,   5],\n       [ 20,  30,   5],\n       [ 30,  51,   2],\n       [ 60,  60,  10],\n       [ 10,  10,  60],\n       [  0,  30,   0],\n       [ 45,  45,  15]])"
     },
     "metadata": {},
     "execution_count": 30
    }
   ],
   "source": [
    "X"
   ]
  },
  {
   "cell_type": "code",
   "execution_count": 31,
   "metadata": {},
   "outputs": [],
   "source": [
    "y = y.reshape(len(y),1)"
   ]
  },
  {
   "cell_type": "code",
   "execution_count": 32,
   "metadata": {},
   "outputs": [
    {
     "output_type": "execute_result",
     "data": {
      "text/plain": "array([[1],\n       [1],\n       [0],\n       [1],\n       [1],\n       [0],\n       [0],\n       [0],\n       [1],\n       [1],\n       [1],\n       [0],\n       [0],\n       [0],\n       [1],\n       [0],\n       [1],\n       [0],\n       [1],\n       [0],\n       [1],\n       [1],\n       [0],\n       [1],\n       [1],\n       [1],\n       [0],\n       [0],\n       [0],\n       [0],\n       [1],\n       [1],\n       [0],\n       [0],\n       [1],\n       [1],\n       [0],\n       [0],\n       [1]])"
     },
     "metadata": {},
     "execution_count": 32
    }
   ],
   "source": [
    "y"
   ]
  },
  {
   "cell_type": "markdown",
   "metadata": {},
   "source": [
    "SPLITING DATASET INTO TRAINING SET AND TESTING SET"
   ]
  },
  {
   "cell_type": "code",
   "execution_count": 33,
   "metadata": {},
   "outputs": [],
   "source": [
    "X_train,X_test,y_train,y_test = train_test_split(X,y,test_size = 0.3,random_state=0)"
   ]
  },
  {
   "cell_type": "markdown",
   "metadata": {},
   "source": [
    "PREDICTING WITH LOGISTIC REGRESSION MODEL"
   ]
  },
  {
   "cell_type": "code",
   "execution_count": 34,
   "metadata": {},
   "outputs": [],
   "source": [
    "log_reg = LogisticRegression()\n"
   ]
  },
  {
   "cell_type": "code",
   "execution_count": 35,
   "metadata": {},
   "outputs": [
    {
     "output_type": "execute_result",
     "data": {
      "text/plain": "LogisticRegression(C=1.0, class_weight=None, dual=False, fit_intercept=True,\n                   intercept_scaling=1, l1_ratio=None, max_iter=100,\n                   multi_class='auto', n_jobs=None, penalty='l2',\n                   random_state=None, solver='lbfgs', tol=0.0001, verbose=0,\n                   warm_start=False)"
     },
     "metadata": {},
     "execution_count": 35
    }
   ],
   "source": [
    "log_reg.fit(X_train,y_train)"
   ]
  },
  {
   "cell_type": "code",
   "execution_count": 36,
   "metadata": {},
   "outputs": [
    {
     "output_type": "execute_result",
     "data": {
      "text/plain": "array([1, 0, 0, 0, 1, 1, 1, 0, 0, 0, 1, 0])"
     },
     "metadata": {},
     "execution_count": 36
    }
   ],
   "source": [
    "prediction = log_reg.predict(X_test)\n",
    "prediction"
   ]
  },
  {
   "cell_type": "code",
   "execution_count": 37,
   "metadata": {},
   "outputs": [
    {
     "output_type": "execute_result",
     "data": {
      "text/plain": "array([0])"
     },
     "metadata": {},
     "execution_count": 37
    }
   ],
   "source": [
    "prediction = log_reg.predict([[45,32,60]])\n",
    "prediction"
   ]
  },
  {
   "cell_type": "markdown",
   "metadata": {},
   "source": [
    "PREDICTING WITH SUPPORT VECTOR CLASSIFIER MODEL"
   ]
  },
  {
   "cell_type": "code",
   "execution_count": 38,
   "metadata": {},
   "outputs": [
    {
     "output_type": "execute_result",
     "data": {
      "text/plain": "SVC(C=1.0, break_ties=False, cache_size=200, class_weight=None, coef0=0.0,\n    decision_function_shape='ovr', degree=3, gamma='scale', kernel='rbf',\n    max_iter=-1, probability=False, random_state=None, shrinking=True,\n    tol=0.001, verbose=False)"
     },
     "metadata": {},
     "execution_count": 38
    }
   ],
   "source": [
    "svm_classifier = SVC()\n",
    "svm_classifier.fit(X_train,y_train)\n"
   ]
  },
  {
   "cell_type": "code",
   "execution_count": 41,
   "metadata": {},
   "outputs": [],
   "source": [
    "prediction = svm_classifier.predict(X_test)"
   ]
  },
  {
   "cell_type": "code",
   "execution_count": 42,
   "metadata": {},
   "outputs": [
    {
     "output_type": "execute_result",
     "data": {
      "text/plain": "array([1, 0, 0, 0, 1, 1, 1, 1, 0, 0, 1, 0])"
     },
     "metadata": {},
     "execution_count": 42
    }
   ],
   "source": [
    "prediction"
   ]
  },
  {
   "cell_type": "code",
   "execution_count": 45,
   "metadata": {},
   "outputs": [
    {
     "output_type": "execute_result",
     "data": {
      "text/plain": "0.9166666666666666"
     },
     "metadata": {},
     "execution_count": 45
    }
   ],
   "source": [
    "svm_classifier.score(X_test,y_test)"
   ]
  },
  {
   "cell_type": "code",
   "execution_count": 46,
   "metadata": {},
   "outputs": [
    {
     "output_type": "execute_result",
     "data": {
      "text/plain": "1.0"
     },
     "metadata": {},
     "execution_count": 46
    }
   ],
   "source": [
    "log_reg.score(X_test,y_test)"
   ]
  },
  {
   "cell_type": "code",
   "execution_count": 48,
   "metadata": {},
   "outputs": [],
   "source": [
    "pickle.dump(log_reg,open('forestfiremodel.pickle','wb'))\n",
    "model = pickle.load(open('forestfiremodel.pickle','rb'))"
   ]
  },
  {
   "cell_type": "code",
   "execution_count": null,
   "metadata": {},
   "outputs": [],
   "source": [
    "model"
   ]
  }
 ]
}